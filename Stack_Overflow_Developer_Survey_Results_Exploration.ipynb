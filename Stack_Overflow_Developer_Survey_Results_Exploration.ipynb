{
 "cells": [
  {
   "cell_type": "markdown",
   "metadata": {},
   "source": [
    "# Project: Write a Data Science Blog Post - What makes developers happy?\n",
    "Author: Wei Chong Ong\n",
    "\n",
    "## Table of Contents\n",
    "<ul>\n",
    "<li><a href=\"#intro\">Introduction</a>\n",
    "    <ul><li><a href=\"#overview\">Project Overview</a>\n",
    "    <li><a href=\"#datasets\"> Stack Overflow Datasets</a>\n",
    "    <li><a href=\"#questions\">Questions</a>\n",
    "        </ul>\n",
    "        </li>\n",
    "<li><a href=\"#wrangling\">Data Wrangling</a>\n",
    "    <ul><li><a href=\"#gathering\">Gathering</a>\n",
    "        <li><a href=\"#assessing\">Assessing</a>\n",
    "        <li><a href=\"#cleaning\">Cleaning</a>\n",
    "    </ul>\n",
    "    </li>\n",
    "<li><a href=\"#eda\">Exploratory Data Analysis</a></li>\n",
    "<li><a href=\"#visualization\">Visualize and Communicate Business Insights</a></li>\n",
    "</ul>"
   ]
  },
  {
   "cell_type": "markdown",
   "metadata": {},
   "source": [
    "<a id='intro' ></a>\n",
    "# Introduction\n",
    "\n",
    "<a id='overview' ></a>\n",
    "## Project Overview\n",
    "A data-driven approach to find out what makes developers happy with their job.\n",
    "\n",
    "<a id='datasets' ></a>\n",
    "## Stack Overflow Datasets\n",
    "The Annual Developer Survey examines all aspects of the developer experience from career satisfaction and job search to education and opinions on open source software. Survey results from 2019 and 2020 are used for this project.\n",
    "\n",
    "<a id='questions' ></a>\n",
    "## Questions\n",
    "<ol>\n",
    "<li><p><a href=\"#q1\"> Are developers happy with their profession?</a></p></li> \n",
    "<li><p><a href=\"#q2\"> Which country has the happiest developers?</a></p></li> \n",
    "<li><p><a href=\"#q3\"> Can money buy happiness? Does organisation size matters?</a></p></li> \n",
    "<li><p><a href=\"#q4\"> In general, what drives developer to look for a new job?</a></p></li> \n",
    "<li><p><a href=\"#q5\">  Which languages are growing in popularity?</a></p></li> \n",
    "</ol> "
   ]
  },
  {
   "cell_type": "markdown",
   "metadata": {},
   "source": [
    "### Import Libraries"
   ]
  },
  {
   "cell_type": "code",
   "execution_count": 1,
   "metadata": {},
   "outputs": [],
   "source": [
    "import pandas as pd\n",
    "import numpy as np\n",
    "import glob\n",
    "from functools import reduce\n",
    "from collections import defaultdict\n",
    "import matplotlib.pyplot as plt\n",
    "import seaborn as sns\n",
    "from matplotlib import gridspec\n",
    "from millify import millify\n",
    "%matplotlib inline\n",
    "import Project1Functions as p1f"
   ]
  },
  {
   "cell_type": "markdown",
   "metadata": {},
   "source": [
    "<a id='wrangling' ></a>\n",
    "# Data Wrangling"
   ]
  },
  {
   "cell_type": "markdown",
   "metadata": {},
   "source": [
    "<a id='gathering' ></a>\n",
    "## Gathering"
   ]
  },
  {
   "cell_type": "code",
   "execution_count": 2,
   "metadata": {
    "scrolled": true
   },
   "outputs": [],
   "source": [
    "dfs = []\n",
    "cols_df = []\n",
    "years_ls = []\n",
    "for file in glob.glob('./data/*.csv'):\n",
    "    df = pd.read_csv(file)\n",
    "    dfs.append(df)\n",
    "    year = file.split('_')[-1].split('.')[0]\n",
    "    years_ls.append(year)\n",
    "    cols_df.append(pd.DataFrame({'Attributes': df.columns, 'SurveyYear': year}))\n",
    "    \n",
    "years_ls.insert(0,'Attributes')\n",
    "attr_cmp_df = reduce(lambda left,right: pd.merge(left,right,on=['Attributes'],how='outer'), cols_df)\n",
    "attr_cmp_df = attr_cmp_df.sort_values(by='Attributes')\n",
    "attr_cmp_df.columns = years_ls"
   ]
  },
  {
   "cell_type": "markdown",
   "metadata": {},
   "source": [
    "<a id='assessing' ></a>\n",
    "## Assessing"
   ]
  },
  {
   "cell_type": "markdown",
   "metadata": {},
   "source": [
    "### Find common attributes from 2019 and 2020 dataset"
   ]
  },
  {
   "cell_type": "code",
   "execution_count": 3,
   "metadata": {},
   "outputs": [
    {
     "data": {
      "text/html": [
       "<div>\n",
       "<style scoped>\n",
       "    .dataframe tbody tr th:only-of-type {\n",
       "        vertical-align: middle;\n",
       "    }\n",
       "\n",
       "    .dataframe tbody tr th {\n",
       "        vertical-align: top;\n",
       "    }\n",
       "\n",
       "    .dataframe thead th {\n",
       "        text-align: right;\n",
       "    }\n",
       "</style>\n",
       "<table border=\"1\" class=\"dataframe\">\n",
       "  <thead>\n",
       "    <tr style=\"text-align: right;\">\n",
       "      <th></th>\n",
       "      <th>Attributes</th>\n",
       "      <th>2020</th>\n",
       "      <th>2019</th>\n",
       "    </tr>\n",
       "  </thead>\n",
       "  <tbody>\n",
       "    <tr>\n",
       "      <th>3</th>\n",
       "      <td>Age</td>\n",
       "      <td>2020</td>\n",
       "      <td>2019</td>\n",
       "    </tr>\n",
       "    <tr>\n",
       "      <th>4</th>\n",
       "      <td>Age1stCode</td>\n",
       "      <td>2020</td>\n",
       "      <td>2019</td>\n",
       "    </tr>\n",
       "    <tr>\n",
       "      <th>5</th>\n",
       "      <td>CompFreq</td>\n",
       "      <td>2020</td>\n",
       "      <td>2019</td>\n",
       "    </tr>\n",
       "    <tr>\n",
       "      <th>6</th>\n",
       "      <td>CompTotal</td>\n",
       "      <td>2020</td>\n",
       "      <td>2019</td>\n",
       "    </tr>\n",
       "    <tr>\n",
       "      <th>7</th>\n",
       "      <td>ConvertedComp</td>\n",
       "      <td>2020</td>\n",
       "      <td>2019</td>\n",
       "    </tr>\n",
       "    <tr>\n",
       "      <th>8</th>\n",
       "      <td>Country</td>\n",
       "      <td>2020</td>\n",
       "      <td>2019</td>\n",
       "    </tr>\n",
       "    <tr>\n",
       "      <th>9</th>\n",
       "      <td>CurrencyDesc</td>\n",
       "      <td>2020</td>\n",
       "      <td>2019</td>\n",
       "    </tr>\n",
       "    <tr>\n",
       "      <th>10</th>\n",
       "      <td>CurrencySymbol</td>\n",
       "      <td>2020</td>\n",
       "      <td>2019</td>\n",
       "    </tr>\n",
       "    <tr>\n",
       "      <th>11</th>\n",
       "      <td>DatabaseDesireNextYear</td>\n",
       "      <td>2020</td>\n",
       "      <td>2019</td>\n",
       "    </tr>\n",
       "    <tr>\n",
       "      <th>12</th>\n",
       "      <td>DatabaseWorkedWith</td>\n",
       "      <td>2020</td>\n",
       "      <td>2019</td>\n",
       "    </tr>\n",
       "    <tr>\n",
       "      <th>13</th>\n",
       "      <td>DevType</td>\n",
       "      <td>2020</td>\n",
       "      <td>2019</td>\n",
       "    </tr>\n",
       "    <tr>\n",
       "      <th>14</th>\n",
       "      <td>EdLevel</td>\n",
       "      <td>2020</td>\n",
       "      <td>2019</td>\n",
       "    </tr>\n",
       "    <tr>\n",
       "      <th>15</th>\n",
       "      <td>Employment</td>\n",
       "      <td>2020</td>\n",
       "      <td>2019</td>\n",
       "    </tr>\n",
       "    <tr>\n",
       "      <th>16</th>\n",
       "      <td>Ethnicity</td>\n",
       "      <td>2020</td>\n",
       "      <td>2019</td>\n",
       "    </tr>\n",
       "    <tr>\n",
       "      <th>17</th>\n",
       "      <td>Gender</td>\n",
       "      <td>2020</td>\n",
       "      <td>2019</td>\n",
       "    </tr>\n",
       "    <tr>\n",
       "      <th>2</th>\n",
       "      <td>Hobbyist</td>\n",
       "      <td>2020</td>\n",
       "      <td>2019</td>\n",
       "    </tr>\n",
       "    <tr>\n",
       "      <th>18</th>\n",
       "      <td>JobFactors</td>\n",
       "      <td>2020</td>\n",
       "      <td>2019</td>\n",
       "    </tr>\n",
       "    <tr>\n",
       "      <th>19</th>\n",
       "      <td>JobSat</td>\n",
       "      <td>2020</td>\n",
       "      <td>2019</td>\n",
       "    </tr>\n",
       "    <tr>\n",
       "      <th>20</th>\n",
       "      <td>JobSeek</td>\n",
       "      <td>2020</td>\n",
       "      <td>2019</td>\n",
       "    </tr>\n",
       "    <tr>\n",
       "      <th>21</th>\n",
       "      <td>LanguageDesireNextYear</td>\n",
       "      <td>2020</td>\n",
       "      <td>2019</td>\n",
       "    </tr>\n",
       "    <tr>\n",
       "      <th>22</th>\n",
       "      <td>LanguageWorkedWith</td>\n",
       "      <td>2020</td>\n",
       "      <td>2019</td>\n",
       "    </tr>\n",
       "    <tr>\n",
       "      <th>1</th>\n",
       "      <td>MainBranch</td>\n",
       "      <td>2020</td>\n",
       "      <td>2019</td>\n",
       "    </tr>\n",
       "    <tr>\n",
       "      <th>23</th>\n",
       "      <td>MiscTechDesireNextYear</td>\n",
       "      <td>2020</td>\n",
       "      <td>2019</td>\n",
       "    </tr>\n",
       "    <tr>\n",
       "      <th>24</th>\n",
       "      <td>MiscTechWorkedWith</td>\n",
       "      <td>2020</td>\n",
       "      <td>2019</td>\n",
       "    </tr>\n",
       "    <tr>\n",
       "      <th>41</th>\n",
       "      <td>OpSys</td>\n",
       "      <td>2020</td>\n",
       "      <td>2019</td>\n",
       "    </tr>\n",
       "    <tr>\n",
       "      <th>42</th>\n",
       "      <td>OrgSize</td>\n",
       "      <td>2020</td>\n",
       "      <td>2019</td>\n",
       "    </tr>\n",
       "    <tr>\n",
       "      <th>43</th>\n",
       "      <td>PlatformDesireNextYear</td>\n",
       "      <td>2020</td>\n",
       "      <td>2019</td>\n",
       "    </tr>\n",
       "    <tr>\n",
       "      <th>44</th>\n",
       "      <td>PlatformWorkedWith</td>\n",
       "      <td>2020</td>\n",
       "      <td>2019</td>\n",
       "    </tr>\n",
       "    <tr>\n",
       "      <th>45</th>\n",
       "      <td>PurchaseWhat</td>\n",
       "      <td>2020</td>\n",
       "      <td>2019</td>\n",
       "    </tr>\n",
       "    <tr>\n",
       "      <th>0</th>\n",
       "      <td>Respondent</td>\n",
       "      <td>2020</td>\n",
       "      <td>2019</td>\n",
       "    </tr>\n",
       "    <tr>\n",
       "      <th>47</th>\n",
       "      <td>SOAccount</td>\n",
       "      <td>2020</td>\n",
       "      <td>2019</td>\n",
       "    </tr>\n",
       "    <tr>\n",
       "      <th>48</th>\n",
       "      <td>SOComm</td>\n",
       "      <td>2020</td>\n",
       "      <td>2019</td>\n",
       "    </tr>\n",
       "    <tr>\n",
       "      <th>49</th>\n",
       "      <td>SOPartFreq</td>\n",
       "      <td>2020</td>\n",
       "      <td>2019</td>\n",
       "    </tr>\n",
       "    <tr>\n",
       "      <th>50</th>\n",
       "      <td>SOVisitFreq</td>\n",
       "      <td>2020</td>\n",
       "      <td>2019</td>\n",
       "    </tr>\n",
       "    <tr>\n",
       "      <th>46</th>\n",
       "      <td>Sexuality</td>\n",
       "      <td>2020</td>\n",
       "      <td>2019</td>\n",
       "    </tr>\n",
       "    <tr>\n",
       "      <th>51</th>\n",
       "      <td>SurveyEase</td>\n",
       "      <td>2020</td>\n",
       "      <td>2019</td>\n",
       "    </tr>\n",
       "    <tr>\n",
       "      <th>52</th>\n",
       "      <td>SurveyLength</td>\n",
       "      <td>2020</td>\n",
       "      <td>2019</td>\n",
       "    </tr>\n",
       "    <tr>\n",
       "      <th>53</th>\n",
       "      <td>Trans</td>\n",
       "      <td>2020</td>\n",
       "      <td>2019</td>\n",
       "    </tr>\n",
       "    <tr>\n",
       "      <th>54</th>\n",
       "      <td>UndergradMajor</td>\n",
       "      <td>2020</td>\n",
       "      <td>2019</td>\n",
       "    </tr>\n",
       "    <tr>\n",
       "      <th>57</th>\n",
       "      <td>WelcomeChange</td>\n",
       "      <td>2020</td>\n",
       "      <td>2019</td>\n",
       "    </tr>\n",
       "    <tr>\n",
       "      <th>58</th>\n",
       "      <td>WorkWeekHrs</td>\n",
       "      <td>2020</td>\n",
       "      <td>2019</td>\n",
       "    </tr>\n",
       "    <tr>\n",
       "      <th>59</th>\n",
       "      <td>YearsCode</td>\n",
       "      <td>2020</td>\n",
       "      <td>2019</td>\n",
       "    </tr>\n",
       "    <tr>\n",
       "      <th>60</th>\n",
       "      <td>YearsCodePro</td>\n",
       "      <td>2020</td>\n",
       "      <td>2019</td>\n",
       "    </tr>\n",
       "  </tbody>\n",
       "</table>\n",
       "</div>"
      ],
      "text/plain": [
       "                Attributes  2020  2019\n",
       "3                      Age  2020  2019\n",
       "4               Age1stCode  2020  2019\n",
       "5                 CompFreq  2020  2019\n",
       "6                CompTotal  2020  2019\n",
       "7            ConvertedComp  2020  2019\n",
       "8                  Country  2020  2019\n",
       "9             CurrencyDesc  2020  2019\n",
       "10          CurrencySymbol  2020  2019\n",
       "11  DatabaseDesireNextYear  2020  2019\n",
       "12      DatabaseWorkedWith  2020  2019\n",
       "13                 DevType  2020  2019\n",
       "14                 EdLevel  2020  2019\n",
       "15              Employment  2020  2019\n",
       "16               Ethnicity  2020  2019\n",
       "17                  Gender  2020  2019\n",
       "2                 Hobbyist  2020  2019\n",
       "18              JobFactors  2020  2019\n",
       "19                  JobSat  2020  2019\n",
       "20                 JobSeek  2020  2019\n",
       "21  LanguageDesireNextYear  2020  2019\n",
       "22      LanguageWorkedWith  2020  2019\n",
       "1               MainBranch  2020  2019\n",
       "23  MiscTechDesireNextYear  2020  2019\n",
       "24      MiscTechWorkedWith  2020  2019\n",
       "41                   OpSys  2020  2019\n",
       "42                 OrgSize  2020  2019\n",
       "43  PlatformDesireNextYear  2020  2019\n",
       "44      PlatformWorkedWith  2020  2019\n",
       "45            PurchaseWhat  2020  2019\n",
       "0               Respondent  2020  2019\n",
       "47               SOAccount  2020  2019\n",
       "48                  SOComm  2020  2019\n",
       "49              SOPartFreq  2020  2019\n",
       "50             SOVisitFreq  2020  2019\n",
       "46               Sexuality  2020  2019\n",
       "51              SurveyEase  2020  2019\n",
       "52            SurveyLength  2020  2019\n",
       "53                   Trans  2020  2019\n",
       "54          UndergradMajor  2020  2019\n",
       "57           WelcomeChange  2020  2019\n",
       "58             WorkWeekHrs  2020  2019\n",
       "59               YearsCode  2020  2019\n",
       "60            YearsCodePro  2020  2019"
      ]
     },
     "execution_count": 3,
     "metadata": {},
     "output_type": "execute_result"
    }
   ],
   "source": [
    "attr_cmp_df[attr_cmp_df['2020'].notna() & attr_cmp_df['2019'].notna()]"
   ]
  },
  {
   "cell_type": "code",
   "execution_count": 4,
   "metadata": {},
   "outputs": [],
   "source": [
    "df_2019 = dfs[1].assign(SurveyYear='2019')\n",
    "df_2020 = dfs[0].assign(SurveyYear='2020')"
   ]
  },
  {
   "cell_type": "markdown",
   "metadata": {},
   "source": [
    "### Combine dataframes into one"
   ]
  },
  {
   "cell_type": "code",
   "execution_count": 5,
   "metadata": {},
   "outputs": [],
   "source": [
    "df_combined = pd.concat([df_2020, df_2019], ignore_index=True, sort=False)"
   ]
  },
  {
   "cell_type": "code",
   "execution_count": 6,
   "metadata": {},
   "outputs": [],
   "source": [
    "df_master = df_combined.copy()"
   ]
  },
  {
   "cell_type": "markdown",
   "metadata": {},
   "source": [
    "## 1st Stage Cleaning"
   ]
  },
  {
   "cell_type": "code",
   "execution_count": 7,
   "metadata": {},
   "outputs": [],
   "source": [
    "# Dropping missing JobSat (Response)\n",
    "df_master = df_master.dropna(subset=['JobSat'])"
   ]
  },
  {
   "cell_type": "code",
   "execution_count": 8,
   "metadata": {},
   "outputs": [],
   "source": [
    "# Job Satisfaction Level\n",
    "jobsat_level = ['Very satisfied', 'Slightly satisfied', 'Neither satisfied nor dissatisfied', \n",
    "                'Slightly dissatisfied', 'Very dissatisfied']\n",
    "\n",
    "jslevel = pd.api.types.CategoricalDtype(ordered=True, categories=jobsat_level)\n",
    "\n",
    "# Use pandas.astype() to convert the \"JobSat\" column from a plain object type into an ordered categorical type\n",
    "df_master['JobSat'] = df_master['JobSat'].astype(jslevel)"
   ]
  },
  {
   "cell_type": "code",
   "execution_count": 9,
   "metadata": {},
   "outputs": [],
   "source": [
    "# Organization Type\n",
    "df_master['OrgType'] = df_master['OrgSize'].map(\n",
    "    {'Just me - I am a freelancer, sole proprietor, etc.':'Freelancer, sole proprietor, etc.',\n",
    "     '2-9 employees':'Small Enterprise',\n",
    "     '2 to 9 employees':'Small Enterprise',\n",
    "     'Fewer than 10 employees': 'Small Enterprise',\n",
    "     '10 to 19 employees':'Small Enterprise',\n",
    "     '20 to 99 employees':'Medium Enterprise',\n",
    "     '100 to 499 employees':'Medium Enterprise',\n",
    "     '500 to 999 employees':'Large Enterprise',\n",
    "     '1,000 to 4,999 employees':'Large Enterprise',\n",
    "     '5,000 to 9,999 employees':'Large Enterprise',\n",
    "     '10,000 or more employees':'Large Enterprise'})\n",
    "\n",
    "org_type = ['Freelancer, sole proprietor, etc.', 'Small Enterprise', 'Medium Enterprise', 'Large Enterprise']"
   ]
  },
  {
   "cell_type": "markdown",
   "metadata": {},
   "source": [
    "<a id='eda' ></a>\n",
    "# Exploratory Data Analysis"
   ]
  },
  {
   "cell_type": "markdown",
   "metadata": {},
   "source": [
    "<a id='q1' ></a>\n",
    "## 1. Are developers happy with their profession?"
   ]
  },
  {
   "cell_type": "code",
   "execution_count": 10,
   "metadata": {
    "scrolled": true
   },
   "outputs": [
    {
     "data": {
      "image/png": "[encoded data removed]",
      "text/plain": [
       "<Figure size 648x360 with 1 Axes>"
      ]
     },
     "metadata": {
      "needs_background": "light"
     },
     "output_type": "display_data"
    }
   ],
   "source": [
    "job_sat = df_master.groupby(['JobSat']).agg({'Respondent':'count'})\n",
    "job_pcts = job_sat.apply(lambda x: 100*x/x.sum())\n",
    "job_pcts.columns = ['PercentageByGroup']\n",
    "job_pcts.reset_index(inplace=True)\n",
    "\n",
    "fig, ax = plt.subplots(figsize = [9, 5])\n",
    "base_color = sns.color_palette()[0]\n",
    "ax = sns.barplot(data = job_pcts, x = 'PercentageByGroup', y = 'JobSat', color = base_color);\n",
    "\n",
    "ax.spines['left'].set_visible(False)\n",
    "ax.spines['right'].set_visible(False)\n",
    "ax.spines['top'].set_visible(False)\n",
    "ax.set_ylabel('')\n",
    "ax.set_yticklabels(jobsat_level, fontsize=13)\n",
    "ax.set_xlabel('Percent of Total Respondent', fontsize=13)\n",
    "ax.set_title('How satisfied are the global developers with their current job?', fontsize=16)\n",
    "p1f.autolabel(ax)\n",
    "p1f.change_width(ax,.7)\n",
    "plt.show()"
   ]
  },
  {
   "cell_type": "markdown",
   "metadata": {},
   "source": [
    "> The statistic shows the satisfaction of global developers with their job in 2019 and 2020. According to the survey, about 64.7% of respondents report that they are either slightly or very satisfied with their job. Only 7.4% are very dissatisfied."
   ]
  },
  {
   "cell_type": "markdown",
   "metadata": {},
   "source": [
    "<a id='q2' ></a>\n",
    "## 2. Which country has the happiest developers?"
   ]
  },
  {
   "cell_type": "code",
   "execution_count": 11,
   "metadata": {},
   "outputs": [],
   "source": [
    "# Top 10 Countries with the most respondents\n",
    "top10CountryList = list(df_master.groupby(['Country']).agg({'Respondent':'count'}).sort_values('Respondent', ascending=False)[:10].index)\n",
    "df_country = df_master[df_master['Country'].apply(lambda x: x in top10CountryList)]"
   ]
  },
  {
   "cell_type": "code",
   "execution_count": 12,
   "metadata": {
    "scrolled": false
   },
   "outputs": [
    {
     "name": "stderr",
     "output_type": "stream",
     "text": [
      "/opt/anaconda3/lib/python3.7/site-packages/ipykernel_launcher.py:32: UserWarning: FixedFormatter should only be used together with FixedLocator\n"
     ]
    },
    {
     "data": {
      "image/png": "[encoded data removed]",
      "text/plain": [
       "<Figure size 1346.4x720 with 1 Axes>"
      ]
     },
     "metadata": {
      "needs_background": "light"
     },
     "output_type": "display_data"
    }
   ],
   "source": [
    "# Reference\n",
    "# https://matplotlib.org/stable/gallery/lines_bars_and_markers/horizontal_barchart_distribution.html\n",
    "country_sat = df_country.groupby(['Country','JobSat']).agg({'Respondent':'count'})\n",
    "country_pcts = country_sat.groupby(level=0).apply(lambda x: 100*x/x.sum())\n",
    "country_pcts.columns = ['PercentageByGroup']\n",
    "country_pcts.reset_index(inplace=True)\n",
    "\n",
    "category_names = jobsat_level\n",
    "pivot_df = country_pcts.pivot(index = 'Country', columns = 'JobSat', values = 'PercentageByGroup')\n",
    "pivot_df.sort_values(['Very satisfied','Slightly satisfied'], ascending = [False,False], inplace=True)\n",
    "data = pivot_df.values\n",
    "data_cum = data.cumsum(axis=1)\n",
    "labels = ['{}'.format(v) for v in pivot_df.index]\n",
    "category_colors = plt.get_cmap('Blues_r')(np.linspace(0.15, 0.85, data.shape[1]))\n",
    "\n",
    "fig, ax = plt.subplots(figsize=(18.7, 10))\n",
    "ax.invert_yaxis()\n",
    "ax.set_xlim(0, np.sum(data, axis=1).max())\n",
    "\n",
    "for i, (colname, color) in enumerate(zip(category_names, category_colors)):\n",
    "    widths = data[:, i]\n",
    "    starts = data_cum[:, i] - widths\n",
    "    if colname not in ['Very satisfied', 'Slightly satisfied']:\n",
    "        color = 'lightgrey'\n",
    "    rects = ax.barh(labels, widths, left=starts, height=0.7,label=colname, color=color, edgecolor = 'white')\n",
    "    ax.bar_label(rects, fmt='%.1f',  \n",
    "                label_type='center', color='white', fontsize=14)\n",
    "\n",
    "ax.spines['left'].set_visible(False)\n",
    "ax.spines['right'].set_visible(False)\n",
    "ax.spines['top'].set_visible(False)\n",
    "ax.set_yticklabels(labels, fontsize=16)\n",
    "ax.set_xlabel('Percent of Total Respondent', fontsize=16)\n",
    "ax.legend(ncol=len(category_names), bbox_to_anchor=(0, 1), loc='lower left', fontsize='x-large')\n",
    "plt.show()"
   ]
  },
  {
   "cell_type": "markdown",
   "metadata": {},
   "source": [
    "> - Developers in United States are the most satisfied at work while Brazilian and Indian developers are the least satisfied out of 10 countries surveyed.\n",
    "> - Netherlands beats UK, Germany and France to offer highest job satisfaction for techies in Europe."
   ]
  },
  {
   "cell_type": "markdown",
   "metadata": {},
   "source": [
    "## 2nd Stage Cleaning"
   ]
  },
  {
   "cell_type": "code",
   "execution_count": 13,
   "metadata": {},
   "outputs": [],
   "source": [
    "# Remove part time employment to have comparable annual salary\n",
    "df_salary = df_master[df_master['Employment']!='Employed part-time']"
   ]
  },
  {
   "cell_type": "code",
   "execution_count": 14,
   "metadata": {},
   "outputs": [],
   "source": [
    "# Focus only United State\n",
    "df_salary_usa = df_salary[df_salary['Country'] == 'United States']\n",
    "\n",
    "# Remove ConvertedComp value equal to 0\n",
    "df_salary_usa = df_salary_usa[df_salary_usa['ConvertedComp'] != 0]"
   ]
  },
  {
   "cell_type": "code",
   "execution_count": 15,
   "metadata": {},
   "outputs": [
    {
     "data": {
      "text/html": [
       "<div>\n",
       "<style scoped>\n",
       "    .dataframe tbody tr th:only-of-type {\n",
       "        vertical-align: middle;\n",
       "    }\n",
       "\n",
       "    .dataframe tbody tr th {\n",
       "        vertical-align: top;\n",
       "    }\n",
       "\n",
       "    .dataframe thead th {\n",
       "        text-align: right;\n",
       "    }\n",
       "</style>\n",
       "<table border=\"1\" class=\"dataframe\">\n",
       "  <thead>\n",
       "    <tr style=\"text-align: right;\">\n",
       "      <th></th>\n",
       "      <th>Respondent</th>\n",
       "      <th>Age</th>\n",
       "      <th>CompTotal</th>\n",
       "      <th>ConvertedComp</th>\n",
       "      <th>WorkWeekHrs</th>\n",
       "      <th>CodeRevHrs</th>\n",
       "    </tr>\n",
       "  </thead>\n",
       "  <tbody>\n",
       "    <tr>\n",
       "      <th>count</th>\n",
       "      <td>26765.000000</td>\n",
       "      <td>23669.000000</td>\n",
       "      <td>2.274800e+04</td>\n",
       "      <td>2.269800e+04</td>\n",
       "      <td>24993.000000</td>\n",
       "      <td>12649.000000</td>\n",
       "    </tr>\n",
       "    <tr>\n",
       "      <th>mean</th>\n",
       "      <td>38922.135924</td>\n",
       "      <td>34.075998</td>\n",
       "      <td>4.884434e+242</td>\n",
       "      <td>2.378795e+05</td>\n",
       "      <td>42.267330</td>\n",
       "      <td>4.390082</td>\n",
       "    </tr>\n",
       "    <tr>\n",
       "      <th>std</th>\n",
       "      <td>24966.148690</td>\n",
       "      <td>9.642103</td>\n",
       "      <td>inf</td>\n",
       "      <td>4.282796e+05</td>\n",
       "      <td>7.911984</td>\n",
       "      <td>4.044747</td>\n",
       "    </tr>\n",
       "    <tr>\n",
       "      <th>min</th>\n",
       "      <td>4.000000</td>\n",
       "      <td>1.000000</td>\n",
       "      <td>0.000000e+00</td>\n",
       "      <td>1.000000e+00</td>\n",
       "      <td>1.000000</td>\n",
       "      <td>0.000000</td>\n",
       "    </tr>\n",
       "    <tr>\n",
       "      <th>25%</th>\n",
       "      <td>17966.000000</td>\n",
       "      <td>27.000000</td>\n",
       "      <td>7.700000e+04</td>\n",
       "      <td>8.100000e+04</td>\n",
       "      <td>40.000000</td>\n",
       "      <td>2.000000</td>\n",
       "    </tr>\n",
       "    <tr>\n",
       "      <th>50%</th>\n",
       "      <td>37278.000000</td>\n",
       "      <td>32.000000</td>\n",
       "      <td>1.050000e+05</td>\n",
       "      <td>1.150000e+05</td>\n",
       "      <td>40.000000</td>\n",
       "      <td>4.000000</td>\n",
       "    </tr>\n",
       "    <tr>\n",
       "      <th>75%</th>\n",
       "      <td>58448.000000</td>\n",
       "      <td>39.000000</td>\n",
       "      <td>1.430000e+05</td>\n",
       "      <td>1.600000e+05</td>\n",
       "      <td>45.000000</td>\n",
       "      <td>5.000000</td>\n",
       "    </tr>\n",
       "    <tr>\n",
       "      <th>max</th>\n",
       "      <td>88880.000000</td>\n",
       "      <td>99.000000</td>\n",
       "      <td>1.111111e+247</td>\n",
       "      <td>2.000000e+06</td>\n",
       "      <td>168.000000</td>\n",
       "      <td>99.000000</td>\n",
       "    </tr>\n",
       "  </tbody>\n",
       "</table>\n",
       "</div>"
      ],
      "text/plain": [
       "         Respondent           Age      CompTotal  ConvertedComp   WorkWeekHrs  \\\n",
       "count  26765.000000  23669.000000   2.274800e+04   2.269800e+04  24993.000000   \n",
       "mean   38922.135924     34.075998  4.884434e+242   2.378795e+05     42.267330   \n",
       "std    24966.148690      9.642103            inf   4.282796e+05      7.911984   \n",
       "min        4.000000      1.000000   0.000000e+00   1.000000e+00      1.000000   \n",
       "25%    17966.000000     27.000000   7.700000e+04   8.100000e+04     40.000000   \n",
       "50%    37278.000000     32.000000   1.050000e+05   1.150000e+05     40.000000   \n",
       "75%    58448.000000     39.000000   1.430000e+05   1.600000e+05     45.000000   \n",
       "max    88880.000000     99.000000  1.111111e+247   2.000000e+06    168.000000   \n",
       "\n",
       "         CodeRevHrs  \n",
       "count  12649.000000  \n",
       "mean       4.390082  \n",
       "std        4.044747  \n",
       "min        0.000000  \n",
       "25%        2.000000  \n",
       "50%        4.000000  \n",
       "75%        5.000000  \n",
       "max       99.000000  "
      ]
     },
     "execution_count": 15,
     "metadata": {},
     "output_type": "execute_result"
    }
   ],
   "source": [
    "df_salary_usa.describe()"
   ]
  },
  {
   "cell_type": "markdown",
   "metadata": {},
   "source": [
    "> Maximum value in ConvertedComp is set to be 2M"
   ]
  },
  {
   "cell_type": "code",
   "execution_count": 16,
   "metadata": {},
   "outputs": [
    {
     "data": {
      "image/png": "[encoded data removed]",
      "text/plain": [
       "<Figure size 432x288 with 1 Axes>"
      ]
     },
     "metadata": {
      "needs_background": "light"
     },
     "output_type": "display_data"
    }
   ],
   "source": [
    "# Get the ticks for bins between [0 - maximum weight]\n",
    "bins = np.arange(df_salary_usa['ConvertedComp'].min(), df_salary_usa['ConvertedComp'].max(), 10000)\n",
    "\n",
    "# Generate the x-ticks you want to apply\n",
    "ticks = [100, 300, 1000, 3000, 10000, 30000, 100000, 300000]\n",
    "\n",
    "# Convert ticks into string values, to be displayed along the x-axis\n",
    "labels = ['{}'.format(v) for v in ticks]\n",
    "\n",
    "# Plot the histogram\n",
    "plt.hist(data = df_salary_usa, x = 'ConvertedComp', bins = bins);"
   ]
  },
  {
   "cell_type": "code",
   "execution_count": 17,
   "metadata": {},
   "outputs": [
    {
     "data": {
      "text/plain": [
       "947"
      ]
     },
     "execution_count": 17,
     "metadata": {},
     "output_type": "execute_result"
    }
   ],
   "source": [
    "len(df_salary_usa[df_salary_usa['ConvertedComp']==2000000])"
   ]
  },
  {
   "cell_type": "markdown",
   "metadata": {},
   "source": [
    "> There are 947 respondents filled in the salary field with 2 million USD. This is certainly an error. Let's take a closer look at the compensation frequency and compensation total field."
   ]
  },
  {
   "cell_type": "markdown",
   "metadata": {},
   "source": [
    "### Wrong CompTotal"
   ]
  },
  {
   "cell_type": "markdown",
   "metadata": {},
   "source": [
    "### Issue 1"
   ]
  },
  {
   "cell_type": "code",
   "execution_count": 18,
   "metadata": {},
   "outputs": [
    {
     "data": {
      "text/html": [
       "<div>\n",
       "<style scoped>\n",
       "    .dataframe tbody tr th:only-of-type {\n",
       "        vertical-align: middle;\n",
       "    }\n",
       "\n",
       "    .dataframe tbody tr th {\n",
       "        vertical-align: top;\n",
       "    }\n",
       "\n",
       "    .dataframe thead th {\n",
       "        text-align: right;\n",
       "    }\n",
       "</style>\n",
       "<table border=\"1\" class=\"dataframe\">\n",
       "  <thead>\n",
       "    <tr style=\"text-align: right;\">\n",
       "      <th></th>\n",
       "      <th>CompFreq</th>\n",
       "      <th>CompTotal</th>\n",
       "      <th>ConvertedComp</th>\n",
       "    </tr>\n",
       "  </thead>\n",
       "  <tbody>\n",
       "    <tr>\n",
       "      <th>2488</th>\n",
       "      <td>NaN</td>\n",
       "      <td>1.000000e+15</td>\n",
       "      <td>NaN</td>\n",
       "    </tr>\n",
       "    <tr>\n",
       "      <th>9802</th>\n",
       "      <td>Monthly</td>\n",
       "      <td>5.000000e+09</td>\n",
       "      <td>2000000.0</td>\n",
       "    </tr>\n",
       "    <tr>\n",
       "      <th>41925</th>\n",
       "      <td>Yearly</td>\n",
       "      <td>2.500000e+06</td>\n",
       "      <td>2000000.0</td>\n",
       "    </tr>\n",
       "    <tr>\n",
       "      <th>42328</th>\n",
       "      <td>Weekly</td>\n",
       "      <td>1.111111e+247</td>\n",
       "      <td>1000000.0</td>\n",
       "    </tr>\n",
       "    <tr>\n",
       "      <th>47111</th>\n",
       "      <td>Weekly</td>\n",
       "      <td>1.000000e+150</td>\n",
       "      <td>2000000.0</td>\n",
       "    </tr>\n",
       "    <tr>\n",
       "      <th>47301</th>\n",
       "      <td>Weekly</td>\n",
       "      <td>1.000000e+16</td>\n",
       "      <td>2000000.0</td>\n",
       "    </tr>\n",
       "    <tr>\n",
       "      <th>69572</th>\n",
       "      <td>Weekly</td>\n",
       "      <td>5.000000e+06</td>\n",
       "      <td>2000000.0</td>\n",
       "    </tr>\n",
       "    <tr>\n",
       "      <th>70121</th>\n",
       "      <td>Yearly</td>\n",
       "      <td>2.400000e+06</td>\n",
       "      <td>2000000.0</td>\n",
       "    </tr>\n",
       "    <tr>\n",
       "      <th>70848</th>\n",
       "      <td>Monthly</td>\n",
       "      <td>1.200000e+07</td>\n",
       "      <td>3420.0</td>\n",
       "    </tr>\n",
       "    <tr>\n",
       "      <th>76260</th>\n",
       "      <td>Yearly</td>\n",
       "      <td>1.000000e+09</td>\n",
       "      <td>2000000.0</td>\n",
       "    </tr>\n",
       "    <tr>\n",
       "      <th>88256</th>\n",
       "      <td>Monthly</td>\n",
       "      <td>1.000000e+16</td>\n",
       "      <td>2000000.0</td>\n",
       "    </tr>\n",
       "    <tr>\n",
       "      <th>88373</th>\n",
       "      <td>Yearly</td>\n",
       "      <td>5.000000e+06</td>\n",
       "      <td>2000000.0</td>\n",
       "    </tr>\n",
       "    <tr>\n",
       "      <th>92165</th>\n",
       "      <td>Yearly</td>\n",
       "      <td>1.000000e+08</td>\n",
       "      <td>2000000.0</td>\n",
       "    </tr>\n",
       "    <tr>\n",
       "      <th>102383</th>\n",
       "      <td>Weekly</td>\n",
       "      <td>1.000000e+16</td>\n",
       "      <td>2000000.0</td>\n",
       "    </tr>\n",
       "    <tr>\n",
       "      <th>103273</th>\n",
       "      <td>Yearly</td>\n",
       "      <td>3.100000e+06</td>\n",
       "      <td>2000000.0</td>\n",
       "    </tr>\n",
       "    <tr>\n",
       "      <th>104895</th>\n",
       "      <td>Yearly</td>\n",
       "      <td>1.300000e+07</td>\n",
       "      <td>2000000.0</td>\n",
       "    </tr>\n",
       "    <tr>\n",
       "      <th>104935</th>\n",
       "      <td>Monthly</td>\n",
       "      <td>5.000000e+07</td>\n",
       "      <td>25860.0</td>\n",
       "    </tr>\n",
       "    <tr>\n",
       "      <th>105568</th>\n",
       "      <td>Weekly</td>\n",
       "      <td>1.000000e+09</td>\n",
       "      <td>2000000.0</td>\n",
       "    </tr>\n",
       "    <tr>\n",
       "      <th>147218</th>\n",
       "      <td>Weekly</td>\n",
       "      <td>9.099999e+06</td>\n",
       "      <td>1000000.0</td>\n",
       "    </tr>\n",
       "    <tr>\n",
       "      <th>147253</th>\n",
       "      <td>Yearly</td>\n",
       "      <td>1.250000e+07</td>\n",
       "      <td>1000000.0</td>\n",
       "    </tr>\n",
       "    <tr>\n",
       "      <th>148355</th>\n",
       "      <td>Yearly</td>\n",
       "      <td>3.000000e+06</td>\n",
       "      <td>2000000.0</td>\n",
       "    </tr>\n",
       "  </tbody>\n",
       "</table>\n",
       "</div>"
      ],
      "text/plain": [
       "       CompFreq      CompTotal  ConvertedComp\n",
       "2488        NaN   1.000000e+15            NaN\n",
       "9802    Monthly   5.000000e+09      2000000.0\n",
       "41925    Yearly   2.500000e+06      2000000.0\n",
       "42328    Weekly  1.111111e+247      1000000.0\n",
       "47111    Weekly  1.000000e+150      2000000.0\n",
       "47301    Weekly   1.000000e+16      2000000.0\n",
       "69572    Weekly   5.000000e+06      2000000.0\n",
       "70121    Yearly   2.400000e+06      2000000.0\n",
       "70848   Monthly   1.200000e+07         3420.0\n",
       "76260    Yearly   1.000000e+09      2000000.0\n",
       "88256   Monthly   1.000000e+16      2000000.0\n",
       "88373    Yearly   5.000000e+06      2000000.0\n",
       "92165    Yearly   1.000000e+08      2000000.0\n",
       "102383   Weekly   1.000000e+16      2000000.0\n",
       "103273   Yearly   3.100000e+06      2000000.0\n",
       "104895   Yearly   1.300000e+07      2000000.0\n",
       "104935  Monthly   5.000000e+07        25860.0\n",
       "105568   Weekly   1.000000e+09      2000000.0\n",
       "147218   Weekly   9.099999e+06      1000000.0\n",
       "147253   Yearly   1.250000e+07      1000000.0\n",
       "148355   Yearly   3.000000e+06      2000000.0"
      ]
     },
     "execution_count": 18,
     "metadata": {},
     "output_type": "execute_result"
    }
   ],
   "source": [
    "df_salary_usa[df_salary_usa['CompTotal']>2000000][['CompFreq','CompTotal','ConvertedComp']]"
   ]
  },
  {
   "cell_type": "markdown",
   "metadata": {},
   "source": [
    "### Code 1"
   ]
  },
  {
   "cell_type": "code",
   "execution_count": 19,
   "metadata": {},
   "outputs": [],
   "source": [
    "# Filter out CompTotal that more than 2M and replace CompTotal and ConvertedComp with NaN\n",
    "errCompTotal_mask1 = np.where(df_salary_usa['CompTotal']>2000000,True, False)\n",
    "df_salary_usa.loc[df_salary_usa[errCompTotal_mask1].index, 'CompTotal'] = np.nan\n",
    "df_salary_usa.loc[df_salary_usa[errCompTotal_mask1].index, 'ConvertedComp'] = np.nan"
   ]
  },
  {
   "cell_type": "markdown",
   "metadata": {},
   "source": [
    "#### Test 1"
   ]
  },
  {
   "cell_type": "code",
   "execution_count": 20,
   "metadata": {},
   "outputs": [
    {
     "data": {
      "text/plain": [
       "0"
      ]
     },
     "execution_count": 20,
     "metadata": {},
     "output_type": "execute_result"
    }
   ],
   "source": [
    "len(df_salary_usa[df_salary_usa['CompTotal']>2000000])"
   ]
  },
  {
   "cell_type": "markdown",
   "metadata": {},
   "source": [
    "### Wrong CompFreq"
   ]
  },
  {
   "cell_type": "markdown",
   "metadata": {},
   "source": [
    "### Issue 2"
   ]
  },
  {
   "cell_type": "code",
   "execution_count": 21,
   "metadata": {},
   "outputs": [
    {
     "data": {
      "text/html": [
       "<div>\n",
       "<style scoped>\n",
       "    .dataframe tbody tr th:only-of-type {\n",
       "        vertical-align: middle;\n",
       "    }\n",
       "\n",
       "    .dataframe tbody tr th {\n",
       "        vertical-align: top;\n",
       "    }\n",
       "\n",
       "    .dataframe thead th {\n",
       "        text-align: right;\n",
       "    }\n",
       "</style>\n",
       "<table border=\"1\" class=\"dataframe\">\n",
       "  <thead>\n",
       "    <tr style=\"text-align: right;\">\n",
       "      <th></th>\n",
       "      <th>CompFreq</th>\n",
       "      <th>CompTotal</th>\n",
       "      <th>ConvertedComp</th>\n",
       "    </tr>\n",
       "  </thead>\n",
       "  <tbody>\n",
       "    <tr>\n",
       "      <th>121</th>\n",
       "      <td>Weekly</td>\n",
       "      <td>120000.0</td>\n",
       "      <td>2000000.0</td>\n",
       "    </tr>\n",
       "    <tr>\n",
       "      <th>123</th>\n",
       "      <td>Monthly</td>\n",
       "      <td>200000.0</td>\n",
       "      <td>2000000.0</td>\n",
       "    </tr>\n",
       "    <tr>\n",
       "      <th>191</th>\n",
       "      <td>Weekly</td>\n",
       "      <td>120000.0</td>\n",
       "      <td>2000000.0</td>\n",
       "    </tr>\n",
       "    <tr>\n",
       "      <th>663</th>\n",
       "      <td>Weekly</td>\n",
       "      <td>150000.0</td>\n",
       "      <td>2000000.0</td>\n",
       "    </tr>\n",
       "    <tr>\n",
       "      <th>697</th>\n",
       "      <td>Weekly</td>\n",
       "      <td>52000.0</td>\n",
       "      <td>2000000.0</td>\n",
       "    </tr>\n",
       "    <tr>\n",
       "      <th>...</th>\n",
       "      <td>...</td>\n",
       "      <td>...</td>\n",
       "      <td>...</td>\n",
       "    </tr>\n",
       "    <tr>\n",
       "      <th>152623</th>\n",
       "      <td>Weekly</td>\n",
       "      <td>95000.0</td>\n",
       "      <td>2000000.0</td>\n",
       "    </tr>\n",
       "    <tr>\n",
       "      <th>152725</th>\n",
       "      <td>Weekly</td>\n",
       "      <td>130000.0</td>\n",
       "      <td>2000000.0</td>\n",
       "    </tr>\n",
       "    <tr>\n",
       "      <th>152727</th>\n",
       "      <td>Weekly</td>\n",
       "      <td>85000.0</td>\n",
       "      <td>2000000.0</td>\n",
       "    </tr>\n",
       "    <tr>\n",
       "      <th>152782</th>\n",
       "      <td>Weekly</td>\n",
       "      <td>185000.0</td>\n",
       "      <td>2000000.0</td>\n",
       "    </tr>\n",
       "    <tr>\n",
       "      <th>152785</th>\n",
       "      <td>Weekly</td>\n",
       "      <td>239000.0</td>\n",
       "      <td>2000000.0</td>\n",
       "    </tr>\n",
       "  </tbody>\n",
       "</table>\n",
       "<p>931 rows × 3 columns</p>\n",
       "</div>"
      ],
      "text/plain": [
       "       CompFreq  CompTotal  ConvertedComp\n",
       "121      Weekly   120000.0      2000000.0\n",
       "123     Monthly   200000.0      2000000.0\n",
       "191      Weekly   120000.0      2000000.0\n",
       "663      Weekly   150000.0      2000000.0\n",
       "697      Weekly    52000.0      2000000.0\n",
       "...         ...        ...            ...\n",
       "152623   Weekly    95000.0      2000000.0\n",
       "152725   Weekly   130000.0      2000000.0\n",
       "152727   Weekly    85000.0      2000000.0\n",
       "152782   Weekly   185000.0      2000000.0\n",
       "152785   Weekly   239000.0      2000000.0\n",
       "\n",
       "[931 rows x 3 columns]"
      ]
     },
     "execution_count": 21,
     "metadata": {},
     "output_type": "execute_result"
    }
   ],
   "source": [
    "# ConvertedComp's limit is 2M. If the converted values exceed this 2M, it will stay as 2M\n",
    "df_salary_usa[(df_salary_usa['CompFreq']!='Yearly') & (df_salary_usa['ConvertedComp']==2000000)][['CompFreq','CompTotal','ConvertedComp']]"
   ]
  },
  {
   "cell_type": "markdown",
   "metadata": {},
   "source": [
    "#### Code 2"
   ]
  },
  {
   "cell_type": "code",
   "execution_count": 22,
   "metadata": {},
   "outputs": [],
   "source": [
    "# Filter out ConvertedComp equal 2M\n",
    "errCompFreq_mask = np.where((df_salary_usa['CompFreq']!='Yearly') & (df_salary_usa['ConvertedComp']==2000000),True, False)\n",
    "\n",
    "# Replace ConvertedComp with CompTotal value\n",
    "df_salary_usa.loc[df_salary_usa[errCompFreq_mask].index, 'ConvertedComp'] = df_salary_usa.loc[errCompFreq_mask]['CompTotal']"
   ]
  },
  {
   "cell_type": "markdown",
   "metadata": {},
   "source": [
    "#### Test 2"
   ]
  },
  {
   "cell_type": "code",
   "execution_count": 23,
   "metadata": {},
   "outputs": [
    {
     "data": {
      "text/html": [
       "<div>\n",
       "<style scoped>\n",
       "    .dataframe tbody tr th:only-of-type {\n",
       "        vertical-align: middle;\n",
       "    }\n",
       "\n",
       "    .dataframe tbody tr th {\n",
       "        vertical-align: top;\n",
       "    }\n",
       "\n",
       "    .dataframe thead th {\n",
       "        text-align: right;\n",
       "    }\n",
       "</style>\n",
       "<table border=\"1\" class=\"dataframe\">\n",
       "  <thead>\n",
       "    <tr style=\"text-align: right;\">\n",
       "      <th></th>\n",
       "      <th>CompFreq</th>\n",
       "      <th>CompTotal</th>\n",
       "      <th>ConvertedComp</th>\n",
       "    </tr>\n",
       "  </thead>\n",
       "  <tbody>\n",
       "    <tr>\n",
       "      <th>121</th>\n",
       "      <td>Weekly</td>\n",
       "      <td>120000.0</td>\n",
       "      <td>120000.0</td>\n",
       "    </tr>\n",
       "    <tr>\n",
       "      <th>123</th>\n",
       "      <td>Monthly</td>\n",
       "      <td>200000.0</td>\n",
       "      <td>200000.0</td>\n",
       "    </tr>\n",
       "    <tr>\n",
       "      <th>191</th>\n",
       "      <td>Weekly</td>\n",
       "      <td>120000.0</td>\n",
       "      <td>120000.0</td>\n",
       "    </tr>\n",
       "    <tr>\n",
       "      <th>663</th>\n",
       "      <td>Weekly</td>\n",
       "      <td>150000.0</td>\n",
       "      <td>150000.0</td>\n",
       "    </tr>\n",
       "    <tr>\n",
       "      <th>697</th>\n",
       "      <td>Weekly</td>\n",
       "      <td>52000.0</td>\n",
       "      <td>52000.0</td>\n",
       "    </tr>\n",
       "    <tr>\n",
       "      <th>...</th>\n",
       "      <td>...</td>\n",
       "      <td>...</td>\n",
       "      <td>...</td>\n",
       "    </tr>\n",
       "    <tr>\n",
       "      <th>152623</th>\n",
       "      <td>Weekly</td>\n",
       "      <td>95000.0</td>\n",
       "      <td>95000.0</td>\n",
       "    </tr>\n",
       "    <tr>\n",
       "      <th>152725</th>\n",
       "      <td>Weekly</td>\n",
       "      <td>130000.0</td>\n",
       "      <td>130000.0</td>\n",
       "    </tr>\n",
       "    <tr>\n",
       "      <th>152727</th>\n",
       "      <td>Weekly</td>\n",
       "      <td>85000.0</td>\n",
       "      <td>85000.0</td>\n",
       "    </tr>\n",
       "    <tr>\n",
       "      <th>152782</th>\n",
       "      <td>Weekly</td>\n",
       "      <td>185000.0</td>\n",
       "      <td>185000.0</td>\n",
       "    </tr>\n",
       "    <tr>\n",
       "      <th>152785</th>\n",
       "      <td>Weekly</td>\n",
       "      <td>239000.0</td>\n",
       "      <td>239000.0</td>\n",
       "    </tr>\n",
       "  </tbody>\n",
       "</table>\n",
       "<p>931 rows × 3 columns</p>\n",
       "</div>"
      ],
      "text/plain": [
       "       CompFreq  CompTotal  ConvertedComp\n",
       "121      Weekly   120000.0       120000.0\n",
       "123     Monthly   200000.0       200000.0\n",
       "191      Weekly   120000.0       120000.0\n",
       "663      Weekly   150000.0       150000.0\n",
       "697      Weekly    52000.0        52000.0\n",
       "...         ...        ...            ...\n",
       "152623   Weekly    95000.0        95000.0\n",
       "152725   Weekly   130000.0       130000.0\n",
       "152727   Weekly    85000.0        85000.0\n",
       "152782   Weekly   185000.0       185000.0\n",
       "152785   Weekly   239000.0       239000.0\n",
       "\n",
       "[931 rows x 3 columns]"
      ]
     },
     "execution_count": 23,
     "metadata": {},
     "output_type": "execute_result"
    }
   ],
   "source": [
    "df_salary_usa.loc[errCompFreq_mask][['CompFreq','CompTotal','ConvertedComp']]"
   ]
  },
  {
   "cell_type": "markdown",
   "metadata": {},
   "source": [
    "#### Issue 3 "
   ]
  },
  {
   "cell_type": "code",
   "execution_count": 24,
   "metadata": {},
   "outputs": [
    {
     "data": {
      "text/html": [
       "<div>\n",
       "<style scoped>\n",
       "    .dataframe tbody tr th:only-of-type {\n",
       "        vertical-align: middle;\n",
       "    }\n",
       "\n",
       "    .dataframe tbody tr th {\n",
       "        vertical-align: top;\n",
       "    }\n",
       "\n",
       "    .dataframe thead th {\n",
       "        text-align: right;\n",
       "    }\n",
       "</style>\n",
       "<table border=\"1\" class=\"dataframe\">\n",
       "  <thead>\n",
       "    <tr style=\"text-align: right;\">\n",
       "      <th></th>\n",
       "      <th>CompFreq</th>\n",
       "      <th>CompTotal</th>\n",
       "      <th>ConvertedComp</th>\n",
       "    </tr>\n",
       "  </thead>\n",
       "  <tbody>\n",
       "    <tr>\n",
       "      <th>17</th>\n",
       "      <td>Monthly</td>\n",
       "      <td>105000.0</td>\n",
       "      <td>1260000.0</td>\n",
       "    </tr>\n",
       "    <tr>\n",
       "      <th>56</th>\n",
       "      <td>Monthly</td>\n",
       "      <td>135000.0</td>\n",
       "      <td>1620000.0</td>\n",
       "    </tr>\n",
       "    <tr>\n",
       "      <th>64</th>\n",
       "      <td>Monthly</td>\n",
       "      <td>98000.0</td>\n",
       "      <td>1176000.0</td>\n",
       "    </tr>\n",
       "    <tr>\n",
       "      <th>194</th>\n",
       "      <td>Monthly</td>\n",
       "      <td>160000.0</td>\n",
       "      <td>1920000.0</td>\n",
       "    </tr>\n",
       "    <tr>\n",
       "      <th>279</th>\n",
       "      <td>Monthly</td>\n",
       "      <td>92000.0</td>\n",
       "      <td>1104000.0</td>\n",
       "    </tr>\n",
       "    <tr>\n",
       "      <th>...</th>\n",
       "      <td>...</td>\n",
       "      <td>...</td>\n",
       "      <td>...</td>\n",
       "    </tr>\n",
       "    <tr>\n",
       "      <th>152177</th>\n",
       "      <td>Monthly</td>\n",
       "      <td>150000.0</td>\n",
       "      <td>1800000.0</td>\n",
       "    </tr>\n",
       "    <tr>\n",
       "      <th>152192</th>\n",
       "      <td>Monthly</td>\n",
       "      <td>74500.0</td>\n",
       "      <td>894000.0</td>\n",
       "    </tr>\n",
       "    <tr>\n",
       "      <th>152376</th>\n",
       "      <td>Monthly</td>\n",
       "      <td>70000.0</td>\n",
       "      <td>840000.0</td>\n",
       "    </tr>\n",
       "    <tr>\n",
       "      <th>152559</th>\n",
       "      <td>Monthly</td>\n",
       "      <td>75000.0</td>\n",
       "      <td>900000.0</td>\n",
       "    </tr>\n",
       "    <tr>\n",
       "      <th>152607</th>\n",
       "      <td>Monthly</td>\n",
       "      <td>60000.0</td>\n",
       "      <td>720000.0</td>\n",
       "    </tr>\n",
       "  </tbody>\n",
       "</table>\n",
       "<p>861 rows × 3 columns</p>\n",
       "</div>"
      ],
      "text/plain": [
       "       CompFreq  CompTotal  ConvertedComp\n",
       "17      Monthly   105000.0      1260000.0\n",
       "56      Monthly   135000.0      1620000.0\n",
       "64      Monthly    98000.0      1176000.0\n",
       "194     Monthly   160000.0      1920000.0\n",
       "279     Monthly    92000.0      1104000.0\n",
       "...         ...        ...            ...\n",
       "152177  Monthly   150000.0      1800000.0\n",
       "152192  Monthly    74500.0       894000.0\n",
       "152376  Monthly    70000.0       840000.0\n",
       "152559  Monthly    75000.0       900000.0\n",
       "152607  Monthly    60000.0       720000.0\n",
       "\n",
       "[861 rows x 3 columns]"
      ]
     },
     "execution_count": 24,
     "metadata": {},
     "output_type": "execute_result"
    }
   ],
   "source": [
    "# ConvertedComp more than 500k (unusual)\n",
    "df_salary_usa[df_salary_usa['ConvertedComp']>500000][['CompFreq','CompTotal','ConvertedComp']]"
   ]
  },
  {
   "cell_type": "markdown",
   "metadata": {},
   "source": [
    "#### Code 3"
   ]
  },
  {
   "cell_type": "code",
   "execution_count": 25,
   "metadata": {},
   "outputs": [],
   "source": [
    "# Filter out ConvertedComp more than 500k\n",
    "errCompFreq_mask2 = np.where(df_salary_usa['ConvertedComp']>500000,True, False)\n",
    "\n",
    "# Replace ConvertedComp with CompTotal value\n",
    "df_salary_usa.loc[df_salary_usa[errCompFreq_mask2].index, 'ConvertedComp'] = df_salary_usa.loc[errCompFreq_mask2]['CompTotal']"
   ]
  },
  {
   "cell_type": "markdown",
   "metadata": {},
   "source": [
    "#### Test 3"
   ]
  },
  {
   "cell_type": "code",
   "execution_count": 26,
   "metadata": {},
   "outputs": [
    {
     "data": {
      "text/html": [
       "<div>\n",
       "<style scoped>\n",
       "    .dataframe tbody tr th:only-of-type {\n",
       "        vertical-align: middle;\n",
       "    }\n",
       "\n",
       "    .dataframe tbody tr th {\n",
       "        vertical-align: top;\n",
       "    }\n",
       "\n",
       "    .dataframe thead th {\n",
       "        text-align: right;\n",
       "    }\n",
       "</style>\n",
       "<table border=\"1\" class=\"dataframe\">\n",
       "  <thead>\n",
       "    <tr style=\"text-align: right;\">\n",
       "      <th></th>\n",
       "      <th>CompFreq</th>\n",
       "      <th>CompTotal</th>\n",
       "      <th>ConvertedComp</th>\n",
       "    </tr>\n",
       "  </thead>\n",
       "  <tbody>\n",
       "    <tr>\n",
       "      <th>17</th>\n",
       "      <td>Monthly</td>\n",
       "      <td>105000.0</td>\n",
       "      <td>105000.0</td>\n",
       "    </tr>\n",
       "    <tr>\n",
       "      <th>56</th>\n",
       "      <td>Monthly</td>\n",
       "      <td>135000.0</td>\n",
       "      <td>135000.0</td>\n",
       "    </tr>\n",
       "    <tr>\n",
       "      <th>64</th>\n",
       "      <td>Monthly</td>\n",
       "      <td>98000.0</td>\n",
       "      <td>98000.0</td>\n",
       "    </tr>\n",
       "    <tr>\n",
       "      <th>194</th>\n",
       "      <td>Monthly</td>\n",
       "      <td>160000.0</td>\n",
       "      <td>160000.0</td>\n",
       "    </tr>\n",
       "    <tr>\n",
       "      <th>279</th>\n",
       "      <td>Monthly</td>\n",
       "      <td>92000.0</td>\n",
       "      <td>92000.0</td>\n",
       "    </tr>\n",
       "    <tr>\n",
       "      <th>...</th>\n",
       "      <td>...</td>\n",
       "      <td>...</td>\n",
       "      <td>...</td>\n",
       "    </tr>\n",
       "    <tr>\n",
       "      <th>152177</th>\n",
       "      <td>Monthly</td>\n",
       "      <td>150000.0</td>\n",
       "      <td>150000.0</td>\n",
       "    </tr>\n",
       "    <tr>\n",
       "      <th>152192</th>\n",
       "      <td>Monthly</td>\n",
       "      <td>74500.0</td>\n",
       "      <td>74500.0</td>\n",
       "    </tr>\n",
       "    <tr>\n",
       "      <th>152376</th>\n",
       "      <td>Monthly</td>\n",
       "      <td>70000.0</td>\n",
       "      <td>70000.0</td>\n",
       "    </tr>\n",
       "    <tr>\n",
       "      <th>152559</th>\n",
       "      <td>Monthly</td>\n",
       "      <td>75000.0</td>\n",
       "      <td>75000.0</td>\n",
       "    </tr>\n",
       "    <tr>\n",
       "      <th>152607</th>\n",
       "      <td>Monthly</td>\n",
       "      <td>60000.0</td>\n",
       "      <td>60000.0</td>\n",
       "    </tr>\n",
       "  </tbody>\n",
       "</table>\n",
       "<p>861 rows × 3 columns</p>\n",
       "</div>"
      ],
      "text/plain": [
       "       CompFreq  CompTotal  ConvertedComp\n",
       "17      Monthly   105000.0       105000.0\n",
       "56      Monthly   135000.0       135000.0\n",
       "64      Monthly    98000.0        98000.0\n",
       "194     Monthly   160000.0       160000.0\n",
       "279     Monthly    92000.0        92000.0\n",
       "...         ...        ...            ...\n",
       "152177  Monthly   150000.0       150000.0\n",
       "152192  Monthly    74500.0        74500.0\n",
       "152376  Monthly    70000.0        70000.0\n",
       "152559  Monthly    75000.0        75000.0\n",
       "152607  Monthly    60000.0        60000.0\n",
       "\n",
       "[861 rows x 3 columns]"
      ]
     },
     "execution_count": 26,
     "metadata": {},
     "output_type": "execute_result"
    }
   ],
   "source": [
    "df_salary_usa.loc[errCompFreq_mask2][['CompFreq','CompTotal','ConvertedComp']]"
   ]
  },
  {
   "cell_type": "markdown",
   "metadata": {},
   "source": [
    "#### Wrong ConvertedComp"
   ]
  },
  {
   "cell_type": "markdown",
   "metadata": {},
   "source": [
    "#### Issue 4"
   ]
  },
  {
   "cell_type": "code",
   "execution_count": 27,
   "metadata": {},
   "outputs": [
    {
     "data": {
      "text/html": [
       "<div>\n",
       "<style scoped>\n",
       "    .dataframe tbody tr th:only-of-type {\n",
       "        vertical-align: middle;\n",
       "    }\n",
       "\n",
       "    .dataframe tbody tr th {\n",
       "        vertical-align: top;\n",
       "    }\n",
       "\n",
       "    .dataframe thead th {\n",
       "        text-align: right;\n",
       "    }\n",
       "</style>\n",
       "<table border=\"1\" class=\"dataframe\">\n",
       "  <thead>\n",
       "    <tr style=\"text-align: right;\">\n",
       "      <th></th>\n",
       "      <th>JobSat</th>\n",
       "      <th>OrgSize</th>\n",
       "      <th>OrgType</th>\n",
       "      <th>CompFreq</th>\n",
       "      <th>CompTotal</th>\n",
       "      <th>ConvertedComp</th>\n",
       "    </tr>\n",
       "  </thead>\n",
       "  <tbody>\n",
       "    <tr>\n",
       "      <th>5755</th>\n",
       "      <td>Slightly dissatisfied</td>\n",
       "      <td>20 to 99 employees</td>\n",
       "      <td>Medium Enterprise</td>\n",
       "      <td>Yearly</td>\n",
       "      <td>120000.0</td>\n",
       "      <td>129718.0</td>\n",
       "    </tr>\n",
       "    <tr>\n",
       "      <th>25304</th>\n",
       "      <td>Slightly satisfied</td>\n",
       "      <td>10,000 or more employees</td>\n",
       "      <td>Large Enterprise</td>\n",
       "      <td>Yearly</td>\n",
       "      <td>120000.0</td>\n",
       "      <td>129718.0</td>\n",
       "    </tr>\n",
       "    <tr>\n",
       "      <th>25850</th>\n",
       "      <td>Slightly dissatisfied</td>\n",
       "      <td>10 to 19 employees</td>\n",
       "      <td>Small Enterprise</td>\n",
       "      <td>Yearly</td>\n",
       "      <td>115000.0</td>\n",
       "      <td>10455.0</td>\n",
       "    </tr>\n",
       "    <tr>\n",
       "      <th>148815</th>\n",
       "      <td>Slightly satisfied</td>\n",
       "      <td>5,000 to 9,999 employees</td>\n",
       "      <td>Large Enterprise</td>\n",
       "      <td>Yearly</td>\n",
       "      <td>720000.0</td>\n",
       "      <td>10075.0</td>\n",
       "    </tr>\n",
       "  </tbody>\n",
       "</table>\n",
       "</div>"
      ],
      "text/plain": [
       "                       JobSat                   OrgSize            OrgType  \\\n",
       "5755    Slightly dissatisfied        20 to 99 employees  Medium Enterprise   \n",
       "25304      Slightly satisfied  10,000 or more employees   Large Enterprise   \n",
       "25850   Slightly dissatisfied        10 to 19 employees   Small Enterprise   \n",
       "148815     Slightly satisfied  5,000 to 9,999 employees   Large Enterprise   \n",
       "\n",
       "       CompFreq  CompTotal  ConvertedComp  \n",
       "5755     Yearly   120000.0       129718.0  \n",
       "25304    Yearly   120000.0       129718.0  \n",
       "25850    Yearly   115000.0        10455.0  \n",
       "148815   Yearly   720000.0        10075.0  "
      ]
     },
     "execution_count": 27,
     "metadata": {},
     "output_type": "execute_result"
    }
   ],
   "source": [
    "# ConvertedComp is not equal to CompTotal for yearly compensation\n",
    "df_salary_usa[(df_salary_usa['ConvertedComp'].notna())&(df_salary_usa['ConvertedComp']!=df_salary_usa['CompTotal'])&(df_salary_usa['CompFreq']=='Yearly')][['JobSat','OrgSize','OrgType','CompFreq','CompTotal','ConvertedComp']]"
   ]
  },
  {
   "cell_type": "markdown",
   "metadata": {},
   "source": [
    "#### Code 4"
   ]
  },
  {
   "cell_type": "code",
   "execution_count": 28,
   "metadata": {},
   "outputs": [],
   "source": [
    "# Filter out wrong ConvertedComp value\n",
    "errConvertedComp_mask = np.where((df_salary_usa['ConvertedComp'].notna())&(df_salary_usa['ConvertedComp']!=df_salary_usa['CompTotal'])&(df_salary_usa['CompFreq']=='Yearly'),True, False)\n",
    "\n",
    "# Replace ConvertedComp with CompTotal value\n",
    "df_salary_usa.loc[df_salary_usa[errConvertedComp_mask].index, 'ConvertedComp'] = df_salary_usa.loc[errConvertedComp_mask]['CompTotal']"
   ]
  },
  {
   "cell_type": "markdown",
   "metadata": {},
   "source": [
    "#### Test 4"
   ]
  },
  {
   "cell_type": "code",
   "execution_count": 29,
   "metadata": {},
   "outputs": [
    {
     "data": {
      "text/html": [
       "<div>\n",
       "<style scoped>\n",
       "    .dataframe tbody tr th:only-of-type {\n",
       "        vertical-align: middle;\n",
       "    }\n",
       "\n",
       "    .dataframe tbody tr th {\n",
       "        vertical-align: top;\n",
       "    }\n",
       "\n",
       "    .dataframe thead th {\n",
       "        text-align: right;\n",
       "    }\n",
       "</style>\n",
       "<table border=\"1\" class=\"dataframe\">\n",
       "  <thead>\n",
       "    <tr style=\"text-align: right;\">\n",
       "      <th></th>\n",
       "      <th>CompFreq</th>\n",
       "      <th>CompTotal</th>\n",
       "      <th>ConvertedComp</th>\n",
       "    </tr>\n",
       "  </thead>\n",
       "  <tbody>\n",
       "    <tr>\n",
       "      <th>5755</th>\n",
       "      <td>Yearly</td>\n",
       "      <td>120000.0</td>\n",
       "      <td>120000.0</td>\n",
       "    </tr>\n",
       "    <tr>\n",
       "      <th>25304</th>\n",
       "      <td>Yearly</td>\n",
       "      <td>120000.0</td>\n",
       "      <td>120000.0</td>\n",
       "    </tr>\n",
       "    <tr>\n",
       "      <th>25850</th>\n",
       "      <td>Yearly</td>\n",
       "      <td>115000.0</td>\n",
       "      <td>115000.0</td>\n",
       "    </tr>\n",
       "    <tr>\n",
       "      <th>148815</th>\n",
       "      <td>Yearly</td>\n",
       "      <td>720000.0</td>\n",
       "      <td>720000.0</td>\n",
       "    </tr>\n",
       "  </tbody>\n",
       "</table>\n",
       "</div>"
      ],
      "text/plain": [
       "       CompFreq  CompTotal  ConvertedComp\n",
       "5755     Yearly   120000.0       120000.0\n",
       "25304    Yearly   120000.0       120000.0\n",
       "25850    Yearly   115000.0       115000.0\n",
       "148815   Yearly   720000.0       720000.0"
      ]
     },
     "execution_count": 29,
     "metadata": {},
     "output_type": "execute_result"
    }
   ],
   "source": [
    "df_salary_usa.loc[errConvertedComp_mask][['CompFreq','CompTotal','ConvertedComp']]"
   ]
  },
  {
   "cell_type": "markdown",
   "metadata": {},
   "source": [
    "#### Issue 5"
   ]
  },
  {
   "cell_type": "code",
   "execution_count": 30,
   "metadata": {},
   "outputs": [
    {
     "data": {
      "text/html": [
       "<div>\n",
       "<style scoped>\n",
       "    .dataframe tbody tr th:only-of-type {\n",
       "        vertical-align: middle;\n",
       "    }\n",
       "\n",
       "    .dataframe tbody tr th {\n",
       "        vertical-align: top;\n",
       "    }\n",
       "\n",
       "    .dataframe thead th {\n",
       "        text-align: right;\n",
       "    }\n",
       "</style>\n",
       "<table border=\"1\" class=\"dataframe\">\n",
       "  <thead>\n",
       "    <tr style=\"text-align: right;\">\n",
       "      <th></th>\n",
       "      <th>JobSat</th>\n",
       "      <th>OrgSize</th>\n",
       "      <th>OrgType</th>\n",
       "      <th>CompFreq</th>\n",
       "      <th>CompTotal</th>\n",
       "      <th>ConvertedComp</th>\n",
       "    </tr>\n",
       "  </thead>\n",
       "  <tbody>\n",
       "    <tr>\n",
       "      <th>1874</th>\n",
       "      <td>Slightly satisfied</td>\n",
       "      <td>100 to 499 employees</td>\n",
       "      <td>Medium Enterprise</td>\n",
       "      <td>Yearly</td>\n",
       "      <td>95.0</td>\n",
       "      <td>95.0</td>\n",
       "    </tr>\n",
       "    <tr>\n",
       "      <th>4167</th>\n",
       "      <td>Slightly dissatisfied</td>\n",
       "      <td>20 to 99 employees</td>\n",
       "      <td>Medium Enterprise</td>\n",
       "      <td>Yearly</td>\n",
       "      <td>140.0</td>\n",
       "      <td>140.0</td>\n",
       "    </tr>\n",
       "    <tr>\n",
       "      <th>4209</th>\n",
       "      <td>Very satisfied</td>\n",
       "      <td>20 to 99 employees</td>\n",
       "      <td>Medium Enterprise</td>\n",
       "      <td>Yearly</td>\n",
       "      <td>80.0</td>\n",
       "      <td>80.0</td>\n",
       "    </tr>\n",
       "    <tr>\n",
       "      <th>4567</th>\n",
       "      <td>Slightly satisfied</td>\n",
       "      <td>10,000 or more employees</td>\n",
       "      <td>Large Enterprise</td>\n",
       "      <td>Yearly</td>\n",
       "      <td>310.0</td>\n",
       "      <td>310.0</td>\n",
       "    </tr>\n",
       "    <tr>\n",
       "      <th>4738</th>\n",
       "      <td>Neither satisfied nor dissatisfied</td>\n",
       "      <td>10,000 or more employees</td>\n",
       "      <td>Large Enterprise</td>\n",
       "      <td>Yearly</td>\n",
       "      <td>65.0</td>\n",
       "      <td>65.0</td>\n",
       "    </tr>\n",
       "    <tr>\n",
       "      <th>...</th>\n",
       "      <td>...</td>\n",
       "      <td>...</td>\n",
       "      <td>...</td>\n",
       "      <td>...</td>\n",
       "      <td>...</td>\n",
       "      <td>...</td>\n",
       "    </tr>\n",
       "    <tr>\n",
       "      <th>146879</th>\n",
       "      <td>Neither satisfied nor dissatisfied</td>\n",
       "      <td>Just me - I am a freelancer, sole proprietor, ...</td>\n",
       "      <td>Freelancer, sole proprietor, etc.</td>\n",
       "      <td>Yearly</td>\n",
       "      <td>1000.0</td>\n",
       "      <td>1000.0</td>\n",
       "    </tr>\n",
       "    <tr>\n",
       "      <th>148041</th>\n",
       "      <td>Very dissatisfied</td>\n",
       "      <td>100 to 499 employees</td>\n",
       "      <td>Medium Enterprise</td>\n",
       "      <td>Yearly</td>\n",
       "      <td>110.0</td>\n",
       "      <td>110.0</td>\n",
       "    </tr>\n",
       "    <tr>\n",
       "      <th>148512</th>\n",
       "      <td>Slightly satisfied</td>\n",
       "      <td>20 to 99 employees</td>\n",
       "      <td>Medium Enterprise</td>\n",
       "      <td>Yearly</td>\n",
       "      <td>145.0</td>\n",
       "      <td>145.0</td>\n",
       "    </tr>\n",
       "    <tr>\n",
       "      <th>148624</th>\n",
       "      <td>Very satisfied</td>\n",
       "      <td>20 to 99 employees</td>\n",
       "      <td>Medium Enterprise</td>\n",
       "      <td>Weekly</td>\n",
       "      <td>1.0</td>\n",
       "      <td>50.0</td>\n",
       "    </tr>\n",
       "    <tr>\n",
       "      <th>151154</th>\n",
       "      <td>Slightly dissatisfied</td>\n",
       "      <td>100 to 499 employees</td>\n",
       "      <td>Medium Enterprise</td>\n",
       "      <td>Monthly</td>\n",
       "      <td>83.0</td>\n",
       "      <td>996.0</td>\n",
       "    </tr>\n",
       "  </tbody>\n",
       "</table>\n",
       "<p>122 rows × 6 columns</p>\n",
       "</div>"
      ],
      "text/plain": [
       "                                    JobSat  \\\n",
       "1874                    Slightly satisfied   \n",
       "4167                 Slightly dissatisfied   \n",
       "4209                        Very satisfied   \n",
       "4567                    Slightly satisfied   \n",
       "4738    Neither satisfied nor dissatisfied   \n",
       "...                                    ...   \n",
       "146879  Neither satisfied nor dissatisfied   \n",
       "148041                   Very dissatisfied   \n",
       "148512                  Slightly satisfied   \n",
       "148624                      Very satisfied   \n",
       "151154               Slightly dissatisfied   \n",
       "\n",
       "                                                  OrgSize  \\\n",
       "1874                                 100 to 499 employees   \n",
       "4167                                   20 to 99 employees   \n",
       "4209                                   20 to 99 employees   \n",
       "4567                             10,000 or more employees   \n",
       "4738                             10,000 or more employees   \n",
       "...                                                   ...   \n",
       "146879  Just me - I am a freelancer, sole proprietor, ...   \n",
       "148041                               100 to 499 employees   \n",
       "148512                                 20 to 99 employees   \n",
       "148624                                 20 to 99 employees   \n",
       "151154                               100 to 499 employees   \n",
       "\n",
       "                                  OrgType CompFreq  CompTotal  ConvertedComp  \n",
       "1874                    Medium Enterprise   Yearly       95.0           95.0  \n",
       "4167                    Medium Enterprise   Yearly      140.0          140.0  \n",
       "4209                    Medium Enterprise   Yearly       80.0           80.0  \n",
       "4567                     Large Enterprise   Yearly      310.0          310.0  \n",
       "4738                     Large Enterprise   Yearly       65.0           65.0  \n",
       "...                                   ...      ...        ...            ...  \n",
       "146879  Freelancer, sole proprietor, etc.   Yearly     1000.0         1000.0  \n",
       "148041                  Medium Enterprise   Yearly      110.0          110.0  \n",
       "148512                  Medium Enterprise   Yearly      145.0          145.0  \n",
       "148624                  Medium Enterprise   Weekly        1.0           50.0  \n",
       "151154                  Medium Enterprise  Monthly       83.0          996.0  \n",
       "\n",
       "[122 rows x 6 columns]"
      ]
     },
     "execution_count": 30,
     "metadata": {},
     "output_type": "execute_result"
    }
   ],
   "source": [
    "# ConvertedComp (annual salary) less than 10k (unusual)\n",
    "df_salary_usa[df_salary_usa['ConvertedComp']<10000][['JobSat','OrgSize','OrgType','CompFreq','CompTotal','ConvertedComp']]"
   ]
  },
  {
   "cell_type": "markdown",
   "metadata": {},
   "source": [
    "#### Code 5"
   ]
  },
  {
   "cell_type": "code",
   "execution_count": 31,
   "metadata": {},
   "outputs": [],
   "source": [
    "# Filter out ConvertedComp less than 10k \n",
    "errConvertedComp_mask2 = np.where(df_salary_usa['ConvertedComp']<10000,True, False)\n",
    "\n",
    "# Replace CompTotal and ConvertedComp with NaN\n",
    "df_salary_usa.loc[df_salary_usa[errConvertedComp_mask2].index, 'CompTotal'] = np.nan\n",
    "df_salary_usa.loc[df_salary_usa[errConvertedComp_mask2].index, 'ConvertedComp'] = np.nan"
   ]
  },
  {
   "cell_type": "markdown",
   "metadata": {},
   "source": [
    "#### Test 5"
   ]
  },
  {
   "cell_type": "code",
   "execution_count": 32,
   "metadata": {},
   "outputs": [
    {
     "data": {
      "text/html": [
       "<div>\n",
       "<style scoped>\n",
       "    .dataframe tbody tr th:only-of-type {\n",
       "        vertical-align: middle;\n",
       "    }\n",
       "\n",
       "    .dataframe tbody tr th {\n",
       "        vertical-align: top;\n",
       "    }\n",
       "\n",
       "    .dataframe thead th {\n",
       "        text-align: right;\n",
       "    }\n",
       "</style>\n",
       "<table border=\"1\" class=\"dataframe\">\n",
       "  <thead>\n",
       "    <tr style=\"text-align: right;\">\n",
       "      <th></th>\n",
       "      <th>CompFreq</th>\n",
       "      <th>CompTotal</th>\n",
       "      <th>ConvertedComp</th>\n",
       "    </tr>\n",
       "  </thead>\n",
       "  <tbody>\n",
       "    <tr>\n",
       "      <th>1874</th>\n",
       "      <td>Yearly</td>\n",
       "      <td>NaN</td>\n",
       "      <td>NaN</td>\n",
       "    </tr>\n",
       "    <tr>\n",
       "      <th>4167</th>\n",
       "      <td>Yearly</td>\n",
       "      <td>NaN</td>\n",
       "      <td>NaN</td>\n",
       "    </tr>\n",
       "    <tr>\n",
       "      <th>4209</th>\n",
       "      <td>Yearly</td>\n",
       "      <td>NaN</td>\n",
       "      <td>NaN</td>\n",
       "    </tr>\n",
       "    <tr>\n",
       "      <th>4567</th>\n",
       "      <td>Yearly</td>\n",
       "      <td>NaN</td>\n",
       "      <td>NaN</td>\n",
       "    </tr>\n",
       "    <tr>\n",
       "      <th>4738</th>\n",
       "      <td>Yearly</td>\n",
       "      <td>NaN</td>\n",
       "      <td>NaN</td>\n",
       "    </tr>\n",
       "    <tr>\n",
       "      <th>...</th>\n",
       "      <td>...</td>\n",
       "      <td>...</td>\n",
       "      <td>...</td>\n",
       "    </tr>\n",
       "    <tr>\n",
       "      <th>146879</th>\n",
       "      <td>Yearly</td>\n",
       "      <td>NaN</td>\n",
       "      <td>NaN</td>\n",
       "    </tr>\n",
       "    <tr>\n",
       "      <th>148041</th>\n",
       "      <td>Yearly</td>\n",
       "      <td>NaN</td>\n",
       "      <td>NaN</td>\n",
       "    </tr>\n",
       "    <tr>\n",
       "      <th>148512</th>\n",
       "      <td>Yearly</td>\n",
       "      <td>NaN</td>\n",
       "      <td>NaN</td>\n",
       "    </tr>\n",
       "    <tr>\n",
       "      <th>148624</th>\n",
       "      <td>Weekly</td>\n",
       "      <td>NaN</td>\n",
       "      <td>NaN</td>\n",
       "    </tr>\n",
       "    <tr>\n",
       "      <th>151154</th>\n",
       "      <td>Monthly</td>\n",
       "      <td>NaN</td>\n",
       "      <td>NaN</td>\n",
       "    </tr>\n",
       "  </tbody>\n",
       "</table>\n",
       "<p>122 rows × 3 columns</p>\n",
       "</div>"
      ],
      "text/plain": [
       "       CompFreq  CompTotal  ConvertedComp\n",
       "1874     Yearly        NaN            NaN\n",
       "4167     Yearly        NaN            NaN\n",
       "4209     Yearly        NaN            NaN\n",
       "4567     Yearly        NaN            NaN\n",
       "4738     Yearly        NaN            NaN\n",
       "...         ...        ...            ...\n",
       "146879   Yearly        NaN            NaN\n",
       "148041   Yearly        NaN            NaN\n",
       "148512   Yearly        NaN            NaN\n",
       "148624   Weekly        NaN            NaN\n",
       "151154  Monthly        NaN            NaN\n",
       "\n",
       "[122 rows x 3 columns]"
      ]
     },
     "execution_count": 32,
     "metadata": {},
     "output_type": "execute_result"
    }
   ],
   "source": [
    "df_salary_usa.loc[errConvertedComp_mask2][['CompFreq','CompTotal','ConvertedComp']]"
   ]
  },
  {
   "cell_type": "code",
   "execution_count": 33,
   "metadata": {},
   "outputs": [
    {
     "data": {
      "text/plain": [
       "count    22556.000000\n",
       "mean         5.032491\n",
       "std          0.215589\n",
       "min          4.000000\n",
       "25%          4.903090\n",
       "50%          5.037426\n",
       "75%          5.161368\n",
       "max          6.301030\n",
       "Name: ConvertedComp, dtype: float64"
      ]
     },
     "execution_count": 33,
     "metadata": {},
     "output_type": "execute_result"
    }
   ],
   "source": [
    "np.log10(df_salary_usa['ConvertedComp']).describe()"
   ]
  },
  {
   "cell_type": "code",
   "execution_count": 34,
   "metadata": {},
   "outputs": [
    {
     "data": {
      "image/png": "[encoded data removed]",
      "text/plain": [
       "<Figure size 432x288 with 1 Axes>"
      ]
     },
     "metadata": {
      "needs_background": "light"
     },
     "output_type": "display_data"
    }
   ],
   "source": [
    "# Get the ticks for bins between [0 - maximum weight]\n",
    "bins = 10 ** np.arange(0, 6.3+0.1, 0.1)\n",
    "\n",
    "# Generate the x-ticks you want to apply\n",
    "ticks = [1000, 3000, 10000, 30000, 100000, 300000, 1000000, 3000000]\n",
    "\n",
    "# Convert ticks into string values, to be displayed along the x-axis\n",
    "labels = ['{}'.format(v) for v in ticks]\n",
    "\n",
    "# Plot the histogram\n",
    "plt.hist(data = df_salary_usa, x = 'ConvertedComp', bins = bins)\n",
    "\n",
    "# sns.distplot(bay_wheels_master['duration'], bins = bins, kde = False)\n",
    "plt.xscale('log')\n",
    "\n",
    "plt.xlim(1000,3000000)\n",
    "\n",
    "# Apply x-ticks\n",
    "plt.xticks(ticks, labels, rotation = 30);"
   ]
  },
  {
   "cell_type": "markdown",
   "metadata": {},
   "source": [
    "> We could see from the histogram has a unimodal shape with one peak at about 100k. However, we could also see there are some outliers at about 1M. Earning 1M USD a year as a developer may be possible but certainly unusual."
   ]
  },
  {
   "cell_type": "markdown",
   "metadata": {},
   "source": [
    "<a id='visualization' ></a>\n",
    "# Visualize and Communicate Business Insights"
   ]
  },
  {
   "cell_type": "markdown",
   "metadata": {},
   "source": [
    "<a id='q3' ></a>\n",
    "## 3. Can money buy happiness? Does organisation size matters?"
   ]
  },
  {
   "cell_type": "code",
   "execution_count": 35,
   "metadata": {},
   "outputs": [
    {
     "data": {
      "image/png": "[encoded data removed]",
      "text/plain": [
       "<Figure size 1296x1008 with 4 Axes>"
      ]
     },
     "metadata": {
      "needs_background": "light"
     },
     "output_type": "display_data"
    }
   ],
   "source": [
    "avg_salary_usa = df_salary_usa['ConvertedComp'].median()\n",
    "org_type = ['Freelancer, sole proprietor, etc.', 'Small Enterprise', 'Medium Enterprise', 'Large Enterprise']\n",
    "rows, cols = 2, 2\n",
    "fig, ax = plt.subplots(rows, cols,\n",
    "                       sharex='col', \n",
    "                       sharey='row',figsize=(18,14))\n",
    "\n",
    "i=0\n",
    "ticks = np.arange(0,160000,20000)\n",
    "labels = ['{}'.format(millify(v,precision=0)) for v in ticks]\n",
    "\n",
    "for col in range(cols):\n",
    "    for row in range(rows):\n",
    "        temp = df_salary_usa[df_salary_usa['OrgType']==org_type[i]]\n",
    "        orgsize_sat = temp.groupby(['JobSat']).agg({'Respondent':'count'})\n",
    "        orgsize_pcts = orgsize_sat.apply(lambda x: 100*x/x.sum())\n",
    "        orgsize_pcts.columns = ['PercentageByGroup']\n",
    "        orgsize_pcts.reset_index(inplace=True)\n",
    "        clrs = [base_color if (x in ['Very satisfied', 'Slightly satisfied']) else 'lightgrey' for x in orgsize_pcts['JobSat']]\n",
    "        bar1 = sns.barplot(ax=ax[row, col], data = temp, x = 'ConvertedComp', y = 'JobSat', palette = clrs)\n",
    "        ax[row, col].axvline(x=avg_salary_usa, color=\"black\", ls='--')\n",
    "        ax[row, col].set_title(org_type[i], fontsize=22, loc='left')\n",
    "        ax[row, col].set_ylabel(\"\")\n",
    "        ax[row, col].set_xlabel(\"\")\n",
    "        ax[row, col].spines['left'].set_visible(False)\n",
    "        ax[row, col].spines['right'].set_visible(False)\n",
    "        ax[row, col].spines['top'].set_visible(False)\n",
    "        # Apply x-ticks\n",
    "        ax[row, col].set_xticks(ticks)\n",
    "        ax[row, col].set_xticklabels(labels, fontsize=16)\n",
    "        ax[row, col].set_yticklabels(jobsat_level, fontsize=16)\n",
    "        p1f.change_width(ax[row, col],.7)\n",
    "        j=0\n",
    "        for bar in bar1.patches:\n",
    "\n",
    "            bar1.annotate(str(np.round(orgsize_pcts.loc[j,'PercentageByGroup'],1))+'%', \n",
    "                          xy = (15000, \n",
    "                          bar.get_y() + bar.get_height() / 2), \n",
    "                          ha='center', va='center',\n",
    "                          xytext=(0, 0),\n",
    "                          textcoords='offset points',\n",
    "                          fontsize=18, color = 'white')\n",
    "            j+=1\n",
    "            \n",
    "        i+=1\n",
    "\n",
    "fig.suptitle(\"Impact of Compensation and Organization Size on Job Satisfaction \\n[Overall Average Annual Salary = {} USD]\".format(millify(avg_salary_usa,precision=0)), ha='left', fontsize=24, x=-0.1, y=1)\n",
    "fig.text(0.5, 0.05,'Annual Salaries in USD', ha='center', va='center', fontsize=20)\n",
    "plt.show()"
   ]
  },
  {
   "cell_type": "markdown",
   "metadata": {},
   "source": [
    "> - Compared to office employees, the variation in salary of full-time freelancers is the largest for all level of job satisfaction. Freelancer who is very satisfied with their job earns as much as developers from large enterprise. The spread is however bigger.\n",
    "> - Developers in small enterprise generally earn below average, There is however an exception for the Very satisfied group, which consists of 45% of the respondents from small enterprise with an annual salary of about 120k. Does this mean that happiness can be bought using money in small enterprise?\n",
    "> - In large enterprise, salary played an insignificant role on the job satisfaction. Only 39.3% of the respondents from large enterprise is very satisfied with their current job, which is the lowest compared to other organisation size."
   ]
  },
  {
   "cell_type": "markdown",
   "metadata": {},
   "source": [
    "<a id='q4' ></a>\n",
    "## 4. In general, what drives you to look for a new job?"
   ]
  },
  {
   "cell_type": "code",
   "execution_count": 36,
   "metadata": {},
   "outputs": [],
   "source": [
    "df_jobhunt = df_master.dropna(subset=['NEWJobHunt'])"
   ]
  },
  {
   "cell_type": "code",
   "execution_count": 37,
   "metadata": {},
   "outputs": [],
   "source": [
    "varJobHunt = ['Just because',\n",
    "'Having a bad day (or week or month) at work',\n",
    "'Wanting to share accomplishments with a wider network',\n",
    "'Curious about other opportunities',\n",
    "'Better compensation',\n",
    "'Trouble with my teammates',\n",
    "'Trouble with my direct manager',\n",
    "'Trouble with leadership at my company',\n",
    "'Better work/life balance',\n",
    "'Wanting to work with new technologies',\n",
    "'Growth or leadership opportunities',\n",
    "'Looking to relocate']"
   ]
  },
  {
   "cell_type": "code",
   "execution_count": 38,
   "metadata": {},
   "outputs": [
    {
     "data": {
      "image/png": "[encoded data removed]",
      "text/plain": [
       "<Figure size 864x576 with 1 Axes>"
      ]
     },
     "metadata": {
      "needs_background": "light"
     },
     "output_type": "display_data"
    }
   ],
   "source": [
    "ls = ['Wanting to work with new technologies','Curious about other opportunities','Growth or leadership opportunities', 'Better work/life balance']\n",
    "pct_jobHunt = p1f.clean(df_jobhunt, 'NEWJobHunt', varJobHunt, 'Reasons')\n",
    "pct_jobHunt.reset_index(inplace=True)\n",
    "fig, ax = plt.subplots(figsize=(12,8))\n",
    "clrs = [base_color if (x in ls) else 'lightgrey' for x in pct_jobHunt['Reasons']]\n",
    "ax = sns.barplot(data = pct_jobHunt, x = 'count', y='Reasons', palette = clrs)\n",
    "    \n",
    "ax.spines['left'].set_visible(False)\n",
    "ax.spines['right'].set_visible(False)\n",
    "ax.spines['top'].set_visible(False)\n",
    "ax.set_ylabel('')\n",
    "ax.set_yticklabels(pct_jobHunt['Reasons'], fontsize=16)\n",
    "ax.set_xlabel('Percent of Total Respondent', fontsize=14)\n",
    "p1f.autolabel(ax) \n",
    "p1f.change_width(ax, .7)\n",
    "plt.suptitle('In general, what drives developers to look for a new job?', ha='left', fontsize=24, x=-0.4, y=0.95)\n",
    "plt.show()"
   ]
  },
  {
   "cell_type": "markdown",
   "metadata": {},
   "source": [
    "- Apart from compensation, developers are driven by technical challenges, rather than personnel issues."
   ]
  },
  {
   "cell_type": "markdown",
   "metadata": {},
   "source": [
    "<a id='q5' ></a>\n",
    "## 5. Which languages are growing in popularity?"
   ]
  },
  {
   "cell_type": "code",
   "execution_count": 39,
   "metadata": {},
   "outputs": [],
   "source": [
    "varLanguages = ['C','Java','JavaScript','Python','SQL','TypeScript','R','C#','HTML/CSS','Bash/Shell/PowerShell']"
   ]
  },
  {
   "cell_type": "code",
   "execution_count": 40,
   "metadata": {},
   "outputs": [],
   "source": [
    "pct_df = p1f.pctByAttr(df_master, 'SurveyYear', 'LanguageDesireNextYear', varLanguages)"
   ]
  },
  {
   "cell_type": "code",
   "execution_count": 41,
   "metadata": {
    "scrolled": false
   },
   "outputs": [
    {
     "name": "stderr",
     "output_type": "stream",
     "text": [
      "/opt/anaconda3/lib/python3.7/site-packages/ipykernel_launcher.py:46: UserWarning: FixedFormatter should only be used together with FixedLocator\n"
     ]
    },
    {
     "data": {
      "image/png": "[encoded data removed]",
      "text/plain": [
       "<Figure size 432x720 with 1 Axes>"
      ]
     },
     "metadata": {
      "needs_background": "light"
     },
     "output_type": "display_data"
    }
   ],
   "source": [
    "fig, ax = plt.subplots(1, figsize=(6,10))\n",
    "\n",
    "for i in varLanguages:\n",
    "    temp = pct_df[pct_df['LanguageDesireNextYear']==i]\n",
    "    yvalue_19 = float(temp[(temp['SurveyYear']=='2019')]['Percentage'].values)\n",
    "    yvalue_20 = float(temp[(temp['SurveyYear']=='2020')]['Percentage'].values)\n",
    "    color = base_color if (yvalue_20-yvalue_19) > 0.1 else 'black'\n",
    "    ax.plot(temp['SurveyYear'], temp['Percentage'], marker='o', markersize=5,\n",
    "            c = color)\n",
    "    # 2019\n",
    "    xcoord = -0.15\n",
    "    if i == 'R':\n",
    "        ycoord = yvalue_19 - 0.1\n",
    "    elif i == 'Bash/Shell/PowerShell':\n",
    "        ycoord = yvalue_19 + 0.1\n",
    "    elif i == 'C#':\n",
    "        ycoord = yvalue_19 + 0.1\n",
    "    else:\n",
    "        ycoord = yvalue_19\n",
    "    \n",
    "    ax.annotate(str(np.round(yvalue_19,1)) + '%', xy = (xcoord, ycoord), xytext = (xcoord-0.02, ycoord), ha='left', va='center',\n",
    "               annotation_clip=False, c =color, fontsize=14)\n",
    "    ax.annotate(i, xy = (xcoord, ycoord), xytext = (xcoord-0.04, ycoord), ha='right', va='center',\n",
    "               annotation_clip=False, c =color, fontsize=14)\n",
    "\n",
    "    # 2020\n",
    "    xcoord = 1.05\n",
    "    if i == 'SQL':\n",
    "        ycoord = yvalue_20 - 0.1\n",
    "    elif i == 'HTML/CSS':\n",
    "        ycoord = yvalue_20 + 0.1\n",
    "    else:\n",
    "        ycoord = yvalue_20\n",
    "    \n",
    "    ax.annotate(str(np.round(yvalue_20,1)) + '%', xy = (xcoord, ycoord), xytext = (xcoord, ycoord), ha='left', va='center',\n",
    "               annotation_clip=False, c =color, fontsize=14)\n",
    "\n",
    "ax.spines['bottom'].set_visible(False)\n",
    "ax.spines['top'].set_visible(False)\n",
    "ax.spines['left'].set_visible(False)\n",
    "ax.spines['right'].set_visible(False)\n",
    "ax.set_ylabel('')\n",
    "ax.set_xlabel('Survey Year', fontsize=16)\n",
    "# ax.set_xticks([])\n",
    "ax.set_yticks([])\n",
    "ax.set_xticklabels(['2019', '2020'], fontsize=14)\n",
    "fig.suptitle('Top 10 Languages Developers Desire To Learn', ha='left', fontsize=20, x=-0.35, y=0.92)\n",
    "plt.show()"
   ]
  },
  {
   "cell_type": "markdown",
   "metadata": {},
   "source": [
    "> - From 2019 to 2020, C remains the most popular programming language and has the largest developer community but Python, TypeScript and R are growing in popularity  in the past year."
   ]
  }
 ],
 "metadata": {
  "kernelspec": {
   "display_name": "Python 3",
   "language": "python",
   "name": "python3"
  },
  "language_info": {
   "codemirror_mode": {
    "name": "ipython",
    "version": 3
   },
   "file_extension": ".py",
   "mimetype": "text/x-python",
   "name": "python",
   "nbconvert_exporter": "python",
   "pygments_lexer": "ipython3",
   "version": "3.7.6"
  }
 },
 "nbformat": 4,
 "nbformat_minor": 4
}
